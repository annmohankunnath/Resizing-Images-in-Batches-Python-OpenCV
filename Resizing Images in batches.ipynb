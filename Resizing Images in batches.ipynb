{
 "cells": [
  {
   "cell_type": "code",
   "execution_count": null,
   "metadata": {},
   "outputs": [],
   "source": [
    "import cv2\n",
    "import glob\n",
    "\n",
    "pics = glob.glob(\"*.jpg\") # To capture all the .jpg images in the current working directory\n",
    "\n",
    "for pic in pics: # To iterate through the pics\n",
    "    img = cv2.imread(pic,0) # To read the pic. 0 is to read the image in gray scale\n",
    "    resized_img = cv2.resize(img,(500,500)) # To resize the image\n",
    "    cv2.imshow(\"Picture\",resized_img) # To display the resized image\n",
    "    cv2.waitKey(2000) # To let the resized image stay on the screen for 2000 milliseconds\n",
    "    cv2.destroyAllWindows() # To destroy all the cv2 windows on the screen\n",
    "    cv2.imwrite(\"New_\"+pic,resized_img) # To write a new file with the resized image and to name it"
   ]
  },
  {
   "cell_type": "code",
   "execution_count": null,
   "metadata": {},
   "outputs": [],
   "source": []
  }
 ],
 "metadata": {
  "kernelspec": {
   "display_name": "Python 3",
   "language": "python",
   "name": "python3"
  },
  "language_info": {
   "codemirror_mode": {
    "name": "ipython",
    "version": 3
   },
   "file_extension": ".py",
   "mimetype": "text/x-python",
   "name": "python",
   "nbconvert_exporter": "python",
   "pygments_lexer": "ipython3",
   "version": "3.6.4"
  }
 },
 "nbformat": 4,
 "nbformat_minor": 2
}
